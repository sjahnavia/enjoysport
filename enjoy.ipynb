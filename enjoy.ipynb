{
  "nbformat": 4,
  "nbformat_minor": 0,
  "metadata": {
    "colab": {
      "name": "enjoy.ipynb",
      "provenance": [],
      "authorship_tag": "ABX9TyP1NPr4+14s3efjkNvl/OoG",
      "include_colab_link": true
    },
    "kernelspec": {
      "name": "python3",
      "display_name": "Python 3"
    },
    "language_info": {
      "name": "python"
    }
  },
  "cells": [
    {
      "cell_type": "markdown",
      "metadata": {
        "id": "view-in-github",
        "colab_type": "text"
      },
      "source": [
        "<a href=\"https://colab.research.google.com/github/sjahnavia/enjoysport/blob/main/enjoy.ipynb\" target=\"_parent\"><img src=\"https://colab.research.google.com/assets/colab-badge.svg\" alt=\"Open In Colab\"/></a>"
      ]
    },
    {
      "cell_type": "code",
      "execution_count": null,
      "metadata": {
        "id": "VswKeH0g9fF_"
      },
      "outputs": [],
      "source": [
        ""
      ]
    },
    {
      "cell_type": "code",
      "source": [
        "import pandas as pd\n",
        "import numpy as np\n"
      ],
      "metadata": {
        "id": "3UFhjU549fny"
      },
      "execution_count": 1,
      "outputs": []
    },
    {
      "cell_type": "code",
      "source": [
        "c=pd.read_csv(\"/content/ENJOYSPORT.csv\")"
      ],
      "metadata": {
        "id": "LIoMTou-9tTK"
      },
      "execution_count": 2,
      "outputs": []
    },
    {
      "cell_type": "code",
      "source": [
        "print(c)"
      ],
      "metadata": {
        "colab": {
          "base_uri": "https://localhost:8080/"
        },
        "id": "8GzjSQ2d97ep",
        "outputId": "3e35e2b4-11e6-401a-cfc3-78fdc0e5a25b"
      },
      "execution_count": 3,
      "outputs": [
        {
          "output_type": "stream",
          "name": "stdout",
          "text": [
            "     Sky AirTemp Humidity    Wind Water Forecast  EnjoySport\n",
            "0  Sunny    Warm   Normal  Strong  Warm     Same           1\n",
            "1  Sunny    Warm     High  Strong  Warm     Same           1\n",
            "2  Rainy    Cold     High  Strong  Warm   Change           0\n",
            "3  Sunny    Warm     High  Strong  Cool   Change           1\n"
          ]
        }
      ]
    },
    {
      "cell_type": "code",
      "source": [
        "a=np.array(c)[:,:-1]\n",
        "print(\"the attributes are:\",a)"
      ],
      "metadata": {
        "colab": {
          "base_uri": "https://localhost:8080/"
        },
        "id": "2MAyUQKb-DAm",
        "outputId": "f3171f34-aba9-4304-bfbe-19542873e170"
      },
      "execution_count": 16,
      "outputs": [
        {
          "output_type": "stream",
          "name": "stdout",
          "text": [
            "the attributes are: [['Sunny' 'Warm' 'Normal' 'Strong' 'Warm' 'Same']\n",
            " ['Sunny' 'Warm' 'High' 'Strong' 'Warm' 'Same']\n",
            " ['Rainy' 'Cold' 'High' 'Strong' 'Warm' 'Change']\n",
            " ['Sunny' 'Warm' 'High' 'Strong' 'Cool' 'Change']]\n"
          ]
        }
      ]
    },
    {
      "cell_type": "code",
      "source": [
        "t=np.array(c)[:,-1]\n",
        "print(t)       "
      ],
      "metadata": {
        "colab": {
          "base_uri": "https://localhost:8080/"
        },
        "id": "OGt963LcASK7",
        "outputId": "a22d9e39-9c37-40e5-c52d-e60351d072e8"
      },
      "execution_count": 19,
      "outputs": [
        {
          "output_type": "stream",
          "name": "stdout",
          "text": [
            "[1 1 0 1]\n"
          ]
        }
      ]
    },
    {
      "cell_type": "code",
      "source": [
        "h=[0,0,0,0,0,0]\n",
        "for i in range(0,1):\n",
        "  if(t[0]==1):\n",
        "    h=a[i].copy()\n",
        "print(h)    "
      ],
      "metadata": {
        "colab": {
          "base_uri": "https://localhost:8080/"
        },
        "id": "HuXl40hmClBa",
        "outputId": "014a4753-1b9d-416c-dfd4-abbc246ea16e"
      },
      "execution_count": 22,
      "outputs": [
        {
          "output_type": "stream",
          "name": "stdout",
          "text": [
            "['Sunny' 'Warm' 'Normal' 'Strong' 'Warm' 'Same']\n"
          ]
        }
      ]
    },
    {
      "cell_type": "code",
      "source": [
        "def fun(c,t): \n",
        "  for i, val in enumerate(t): \n",
        "    if val == \"Yes\":\n",
        "      specific_hypothesis = c[i].copy()\n",
        "      break \n",
        "\n",
        "    for i, val in enumerate(c): \n",
        "       if t[i] == \"Yes\":\n",
        "         for x in range(len(specific_hypothesis)):\n",
        "           if val[x] != specific_hypothesis[x]:\n",
        "             specific_hypothesis[x] = '?'\n",
        "           else:\n",
        "               pass\n",
        "               return specific_hypothesis\n",
        "               print(\" The final hypothesis is:\",train(a,t))"
      ],
      "metadata": {
        "id": "vzgDZh5UGVnh"
      },
      "execution_count": 71,
      "outputs": []
    }
  ]
}